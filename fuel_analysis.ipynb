{
 "cells": [
  {
   "cell_type": "markdown",
   "id": "f8fae1e5",
   "metadata": {},
   "source": [
    "# Fuel Use Data Analysis\n",
    "This notebook provides a detailed analysis of vehicle fuel usage, cost, and mileage data. It includes data loading, metric computation, visualization, and outlier detection."
   ]
  },
  {
   "cell_type": "code",
   "execution_count": null,
   "id": "a1dda46d",
   "metadata": {},
   "outputs": [],
   "source": [
    "# Import required libraries\n",
    "import pandas as pd\n",
    "import matplotlib.pyplot as plt\n",
    "import os"
   ]
  },
  {
   "cell_type": "markdown",
   "id": "305215e5",
   "metadata": {},
   "source": [
    "## Load and Validate Data"
   ]
  },
  {
   "cell_type": "code",
   "execution_count": null,
   "id": "3970c8e1",
   "metadata": {},
   "outputs": [],
   "source": [
    "def load_data(filepath):\n",
    "    '''Load and validate the fuel use dataset.'''\n",
    "    if not os.path.exists(filepath):\n",
    "        raise FileNotFoundError(f'Data file not found: {filepath}')\n",
    "    df = pd.read_csv(filepath, comment='#', names=['Mileage', 'Cost', 'Fuel_Litres', 'Date'])\n",
    "    df = df.dropna(subset=['Mileage', 'Fuel_Litres', 'Cost'])\n",
    "    df['Mileage'] = pd.to_numeric(df['Mileage'], errors='coerce')\n",
    "    df['Cost'] = pd.to_numeric(df['Cost'], errors='coerce')\n",
    "    df['Fuel_Litres'] = pd.to_numeric(df['Fuel_Litres'], errors='coerce')\n",
    "    df = df.dropna(subset=['Mileage', 'Cost', 'Fuel_Litres'])\n",
    "    df = df.reset_index(drop=True)\n",
    "    return df"
   ]
  },
  {
   "cell_type": "code",
   "execution_count": null,
   "id": "31e7aefd",
   "metadata": {},
   "outputs": [],
   "source": [
    "# Load the dataset\n",
    "data_file = 'CE2NMP_ResitData_FuelUse.csv'\n",
    "df = load_data(data_file)\n",
    "print(f'Data loaded: {len(df)} records')"
   ]
  },
  {
   "cell_type": "markdown",
   "id": "6c254e36",
   "metadata": {},
   "source": [
    "## Compute Metrics"
   ]
  },
  {
   "cell_type": "code",
   "execution_count": null,
   "id": "08055406",
   "metadata": {},
   "outputs": [],
   "source": [
    "def compute_metrics(df):\n",
    "    '''Compute derived metrics: miles driven, fuel efficiency, cost per litre.'''\n",
    "    df['Prev_Mileage'] = df['Mileage'].shift(1)\n",
    "    df['Miles_Driven'] = df['Mileage'] - df['Prev_Mileage']\n",
    "    df['Miles_per_Litre'] = df['Miles_Driven'] / df['Fuel_Litres']\n",
    "    df['Cost_per_Litre'] = df['Cost'] / df['Fuel_Litres']\n",
    "    return df"
   ]
  },
  {
   "cell_type": "code",
   "execution_count": null,
   "id": "91bc6f4c",
   "metadata": {},
   "outputs": [],
   "source": [
    "df = compute_metrics(df)"
   ]
  },
  {
   "cell_type": "markdown",
   "id": "759ba70f",
   "metadata": {},
   "source": [
    "## Visualize Fuel Efficiency and Cost per Litre"
   ]
  },
  {
   "cell_type": "code",
   "execution_count": null,
   "id": "e1bb7c7d",
   "metadata": {},
   "outputs": [],
   "source": [
    "def plot_metric(x, y, xlabel, ylabel, title, color='blue'):\n",
    "    plt.figure(figsize=(10, 5))\n",
    "    plt.plot(x, y, marker='o', color=color)\n",
    "    plt.title(title)\n",
    "    plt.xlabel(xlabel)\n",
    "    plt.ylabel(ylabel)\n",
    "    plt.grid(True)\n",
    "    plt.tight_layout()\n",
    "    plt.show()"
   ]
  },
  {
   "cell_type": "code",
   "execution_count": null,
   "id": "9ec9ce57",
   "metadata": {},
   "outputs": [],
   "source": [
    "# Fuel Efficiency Plot\n",
    "plot_metric(df['Mileage'], df['Miles_per_Litre'], 'Mileage', 'Miles per Litre', 'Fuel Efficiency (Miles per Litre)')"
   ]
  },
  {
   "cell_type": "code",
   "execution_count": null,
   "id": "97a504fe",
   "metadata": {},
   "outputs": [],
   "source": [
    "# Cost per Litre Plot\n",
    "plot_metric(df['Mileage'], df['Cost_per_Litre'], 'Mileage', 'Cost per Litre', 'Cost per Litre Over Time', color='orange')"
   ]
  },
  {
   "cell_type": "markdown",
   "id": "5a2c416a",
   "metadata": {},
   "source": [
    "## Summary Statistics"
   ]
  },
  {
   "cell_type": "code",
   "execution_count": null,
   "id": "8ed37c31",
   "metadata": {},
   "outputs": [],
   "source": [
    "summary = df[['Miles_per_Litre', 'Cost_per_Litre']].describe()\n",
    "print(summary)"
   ]
  },
  {
   "cell_type": "markdown",
   "id": "85e64fdd",
   "metadata": {},
   "source": [
    "## Outlier Detection"
   ]
  },
  {
   "cell_type": "code",
   "execution_count": null,
   "id": "01e43758",
   "metadata": {},
   "outputs": [],
   "source": [
    "def detect_outliers(df, column, lower_quantile=0.05, upper_quantile=0.95):\n",
    "    lower = df[column].quantile(lower_quantile)\n",
    "    upper = df[column].quantile(upper_quantile)\n",
    "    outliers = df[(df[column] < lower) | (df[column] > upper)]\n",
    "    return outliers"
   ]
  },
  {
   "cell_type": "code",
   "execution_count": null,
   "id": "926b1dad",
   "metadata": {},
   "outputs": [],
   "source": [
    "outliers = detect_outliers(df, 'Miles_per_Litre')\n",
    "print(outliers[['Mileage', 'Cost', 'Fuel_Litres', 'Miles_per_Litre']])"
   ]
  }
 ],
 "metadata": {
  "language_info": {
   "name": "python"
  }
 },
 "nbformat": 4,
 "nbformat_minor": 5
}
